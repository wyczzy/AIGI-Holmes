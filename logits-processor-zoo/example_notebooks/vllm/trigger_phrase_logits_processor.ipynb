{
 "cells": [
  {
   "cell_type": "code",
   "execution_count": 1,
   "id": "28ed6952",
   "metadata": {},
   "outputs": [
    {
     "name": "stdout",
     "output_type": "stream",
     "text": [
      "/home/aerdem/projects/nvidia/logits-processor-zoo\n"
     ]
    }
   ],
   "source": [
    "%cd ../.."
   ]
  },
  {
   "cell_type": "code",
   "execution_count": 2,
   "id": "b89279fe",
   "metadata": {},
   "outputs": [
    {
     "name": "stdout",
     "output_type": "stream",
     "text": [
      "WARNING 04-29 15:31:18 cuda.py:22] You are using a deprecated `pynvml` package. Please install `nvidia-ml-py` instead. See https://pypi.org/project/pynvml for more information.\n"
     ]
    },
    {
     "name": "stderr",
     "output_type": "stream",
     "text": [
      "/home/aerdem/projects/LLM/llmenv/lib/python3.10/site-packages/huggingface_hub/file_download.py:1132: FutureWarning: `resume_download` is deprecated and will be removed in version 1.0.0. Downloads always resume when possible. If you want to force a new download, use `force_download=True`.\n",
      "  warnings.warn(\n"
     ]
    },
    {
     "name": "stdout",
     "output_type": "stream",
     "text": [
      "WARNING 04-29 15:31:21 config.py:1563] Casting torch.bfloat16 to torch.float16.\n",
      "WARNING 04-29 15:31:21 arg_utils.py:839] Chunked prefill is enabled by default for models with max_model_len > 32K. Currently, chunked prefill might not work with some features or models. If you encounter any issues, please disable chunked prefill by setting --enable-chunked-prefill=False.\n",
      "INFO 04-29 15:31:21 config.py:911] Chunked prefill is enabled with max_num_batched_tokens=512.\n",
      "INFO 04-29 15:31:21 llm_engine.py:184] Initializing an LLM engine (v0.5.5) with config: model='deepseek-ai/DeepSeek-R1-Distill-Qwen-1.5B', speculative_config=None, tokenizer='deepseek-ai/DeepSeek-R1-Distill-Qwen-1.5B', skip_tokenizer_init=False, tokenizer_mode=auto, revision=None, rope_scaling=None, rope_theta=None, tokenizer_revision=None, trust_remote_code=True, dtype=torch.float16, max_seq_len=131072, download_dir=None, load_format=LoadFormat.AUTO, tensor_parallel_size=1, pipeline_parallel_size=1, disable_custom_all_reduce=False, quantization=None, enforce_eager=True, kv_cache_dtype=auto, quantization_param_path=None, device_config=cuda, decoding_config=DecodingConfig(guided_decoding_backend='outlines'), observability_config=ObservabilityConfig(otlp_traces_endpoint=None, collect_model_forward_time=False, collect_model_execute_time=False), seed=0, served_model_name=deepseek-ai/DeepSeek-R1-Distill-Qwen-1.5B, use_v2_block_manager=False, enable_prefix_caching=False)\n"
     ]
    },
    {
     "name": "stderr",
     "output_type": "stream",
     "text": [
      "Special tokens have been added in the vocabulary, make sure the associated word embeddings are fine-tuned or trained.\n"
     ]
    },
    {
     "name": "stdout",
     "output_type": "stream",
     "text": [
      "INFO 04-29 15:31:22 model_runner.py:879] Starting to load model deepseek-ai/DeepSeek-R1-Distill-Qwen-1.5B...\n",
      "INFO 04-29 15:31:22 weight_utils.py:236] Using model weights format ['*.safetensors']\n",
      "INFO 04-29 15:31:23 weight_utils.py:280] No model.safetensors.index.json found in remote.\n"
     ]
    },
    {
     "data": {
      "application/vnd.jupyter.widget-view+json": {
       "model_id": "fbe3d3d1cfc44271bc837babbcc9e71c",
       "version_major": 2,
       "version_minor": 0
      },
      "text/plain": [
       "Loading safetensors checkpoint shards:   0% Completed | 0/1 [00:00<?, ?it/s]\n"
      ]
     },
     "metadata": {},
     "output_type": "display_data"
    },
    {
     "name": "stdout",
     "output_type": "stream",
     "text": [
      "INFO 04-29 15:31:24 model_runner.py:890] Loading model weights took 3.3460 GB\n",
      "INFO 04-29 15:31:24 gpu_executor.py:121] # GPU blocks: 37898, # CPU blocks: 9362\n"
     ]
    }
   ],
   "source": [
    "from example_notebooks.vllm.utils import vLLMRunner\n",
    "from logits_processor_zoo.vllm import TriggerPhraseLogitsProcessor, GenLengthLogitsProcessor\n",
    "\n",
    "\n",
    "example_prompts = [\n",
    "\"\"\"\n",
    "Generate a python function to calculate nth fibonacci number. Make it recursive. Keep thinking short.\n",
    "\"\"\",\n",
    "]\n",
    "\n",
    "runner = vLLMRunner(\"deepseek-ai/DeepSeek-R1-Distill-Qwen-1.5B\")"
   ]
  },
  {
   "cell_type": "markdown",
   "id": "859aef8d",
   "metadata": {},
   "source": [
    "## Default Response"
   ]
  },
  {
   "cell_type": "code",
   "execution_count": 3,
   "id": "cbf4c2d5",
   "metadata": {
    "scrolled": false
   },
   "outputs": [
    {
     "name": "stdout",
     "output_type": "stream",
     "text": [
      "Prompt: \n",
      "Generate a python function to calculate nth fibonacci number. Make it recursive. Keep thinking short.\n",
      "\n",
      "Okay, I need to write a Python function to calculate the nth Fibonacci number using recursion. Hmm, let's think about how the Fibonacci sequence works. The Fibonacci sequence starts with 0 and 1, and each subsequent number is the sum of the two preceding ones. So, the sequence goes 0, 1, 1, 2, 3, 5, 8, and so on.\n",
      "\n",
      "Wait, but sometimes people define it starting with 1 and 1. I should clarify that. Oh right, the standard definition starts with F(0) = 0, F(1) = 1, F(2) = 1, F(3) = 2, etc. So, for example, F(5) would be 5.\n",
      "\n",
      "Now, the problem says to make it recursive. Recursion means the function will call itself with a smaller problem each time. So, the base cases are when n is 0 or 1, and then for other values, it adds the two previous numbers.\n",
      "\n",
      "Wait, but in the standard definition, F(0) is 0, F(1) is 1, F(2) is 1, F(3) is 2, etc. So, for n=0, return 0; for n=1, return 1. For n >=2, return F(n-1) + F(n-2).\n",
      "\n",
      "So, the recursive function can be written as:\n",
      "\n",
      "def fibonacci(n):\n",
      "    if n == 0:\n",
      "        return 0\n",
      "    elif n == 1:\n",
      "        return 1\n",
      "    else:\n",
      "        return fibonacci(n-1) + fibonacci(n-2)\n",
      "\n",
      "But wait, recursion can be inefficient for large n because it recalculates the same values many times. However, the problem says to keep thinking short, so maybe it's acceptable for now.\n",
      "\n",
      "Alternatively, I can optimize it using memoization or dynamic programming to store previously computed values, but that's more advanced. Since the problem doesn't specify, I'll stick with the basic recursive approach.\n",
      "\n",
      "Let me test this function with some examples. For n=0, it returns 0. For n=1, returns 1. For n=2, it's F(1)+F(0) = 1+0=1. For n=3, F(2)+F(1)=1+1=2. That looks correct.\n",
      "\n",
      "Wait, but sometimes people define the Fibonacci sequence starting with F(1)=1, F(2)=1, F(3)=2, etc. So, if the function is called with n=5, it should return 5. Let me see: F(5) is 5, which matches the standard definition. So, the function should work regardless of the starting point as long as the base cases are correct.\n",
      "\n",
      "Another thing to consider is the base cases. If the function is called with n=0, it returns 0, which is correct. For n=1, returns 1. For n=2, returns 1, which is correct. So, the function should handle all non-negative integers correctly.\n",
      "\n",
      "I think this should work. So, the function is straightforward. It's a simple recursive implementation, but it's not the most efficient for large n. However, for the purpose of this problem, it's acceptable.\n",
      "</think>\n",
      "\n",
      "To solve this problem, we need to generate the nth Fibonacci number using a recursive approach. The Fibonacci sequence is a series of numbers where each number is the sum of the two preceding ones, starting from 0 and 1. \n",
      "\n",
      "### Approach\n",
      "The approach to solve this problem involves using recursion, which is a method where the function calls itself with a smaller input until it reaches a base case. Here's a step-by-step breakdown of the approach:\n",
      "\n",
      "1. **Base Cases**: \n",
      "   - If `n` is 0, return 0.\n",
      "   - If `n` is 1, return 1.\n",
      "   \n",
      "2. **Recursive Case**:\n",
      "   - For any `n` greater than 1, the nth Fibonacci number is the sum of the (n-1)th and (n-2)th Fibonacci numbers. This is achieved by recursively calling the function with `n-1` and `n-2` and adding their results.\n",
      "\n",
      "This approach ensures that each Fibonacci number is computed by breaking down the problem into smaller subproblems, which are then solved recursively.\n",
      "\n",
      "### Solution Code\n",
      "\n",
      "```python\n",
      "def fibonacci(n):\n",
      "    if n == 0:\n",
      "        return 0\n",
      "    elif n == 1:\n",
      "        return 1\n",
      "    else:\n",
      "        return fibonacci(n-1) + fibonacci(n-2)\n",
      "```\n",
      "\n",
      "### Explanation\n",
      "- **Base Cases**: The function first checks if `n` is 0 or 1. If `n` is 0, it returns 0. If `n` is 1, it returns 1. These are the simplest cases of the Fibonacci sequence.\n",
      "- **Recursive Case**: For any `n` greater than 1, the function calls itself with `n-1` and `n-2`, and returns the sum of these two recursive calls. This builds up the solution by solving smaller subproblems and combining their results.\n",
      "\n",
      "This approach is straightforward and easy to understand, but it's important to note that for large values of `n`, this method can be inefficient due to repeated calculations. However, for the purpose of this problem, the recursive approach is sufficient.\n",
      "-----END-----\n",
      "\n"
     ]
    }
   ],
   "source": [
    "runner.generate_response(example_prompts, max_tokens=4096)"
   ]
  },
  {
   "cell_type": "markdown",
   "id": "fa95a61c",
   "metadata": {},
   "source": [
    "## Think more (2x more \"Wait,\")"
   ]
  },
  {
   "cell_type": "code",
   "execution_count": 4,
   "id": "e690b367",
   "metadata": {},
   "outputs": [
    {
     "name": "stdout",
     "output_type": "stream",
     "text": [
      "Prompt: \n",
      "Generate a python function to calculate nth fibonacci number. Make it recursive. Keep thinking short.\n",
      "\n",
      "Okay, I need to write a Python function to calculate the nth Fibonacci number using recursion. Hmm, let's think about how the Fibonacci sequence works. The Fibonacci sequence starts with 0 and 1, and each subsequent number is the sum of the two preceding ones. So, the sequence goes 0, 1, 1, 2, 3, 5, 8, and so on.\n",
      "\n",
      "Wait, but sometimes people define it starting with 1 and 1. I should clarify that. Oh right, the standard definition starts with F(0) = 0, F(1) = 1, F(2) = 1, F(3) = 2, etc. So, for example, F(5) would be 5.\n",
      "\n",
      "Now, the problem says to make it recursive. Recursion means the function will call itself with a smaller problem each time. So, the base cases are when n is 0 or 1, and then for other values, it adds the two previous numbers.\n",
      "\n",
      "Wait, but in the standard definition, F(0) is 0, F(1) is 1, F(2) is 1, F(3) is 2, etc. So, for n=0, return 0; for n=1, return 1. For n >=2, return F(n-1) + F(n-2).\n",
      "\n",
      "So, the recursive function can be written as:\n",
      "\n",
      "def fibonacci(n):\n",
      "    if n == 0:\n",
      "        return 0\n",
      "    elif n == 1:\n",
      "        return 1\n",
      "    else:\n",
      "        return fibonacci(n-1) + fibonacci(n-2)\n",
      "\n",
      "But wait, recursion can be inefficient for large n because it recalculates the same values many times. However, the problem says to keep thinking short, so maybe it's acceptable for now.\n",
      "\n",
      "Alternatively, I can optimize it using memoization or dynamic programming to store previously computed values, but that's more advanced. Since the problem doesn't specify, I'll stick with the basic recursive approach.\n",
      "\n",
      "Let me test this function with some examples. For n=0, it returns 0. For n=1, returns 1. For n=2, it's F(1)+F(0) = 1+0=1. For n=3, F(2)+F(1)=1+1=2. That looks correct.\n",
      "\n",
      "Wait, but sometimes people define the Fibonacci sequence starting with F(1)=1, F(2)=1, F(3)=2, etc. So, if the function is called with n=5, it should return 5. Let me see: F(5) is 5, which matches the standard definition. So, the function should work regardless of the starting point as long as the base cases are correct.\n",
      "\n",
      "Another thing to consider is the base cases. If the function is called with n=0, it returns 0, which is correct. For n=1, returns 1. For n=2, returns 1, which is correct. So, the function should handle all non-negative integers correctly.\n",
      "\n",
      "I think this should work. So, the function is straightforward. It's a simple recursive implementation, but it's not the most efficient for large n. However, for the purpose of this problem, it's acceptable.\n",
      "\n",
      "Wait, but in the problem statement, it says to make it recursive. So, the function should call itself, which it does. So, the function is recursive as required.\n",
      "\n",
      "Wait, but in the function I wrote, for n=0, it returns 0, which is correct. For n=1, returns 1. For n=2, returns 1, which is correct. For n=3, returns 2, etc. So, the function is correct.\n",
      "</think>\n",
      "\n",
      "To solve this problem, we need to generate the nth Fibonacci number using a recursive approach. The Fibonacci sequence is a series of numbers where each number is the sum of the two preceding ones, starting from 0 and 1. \n",
      "\n",
      "### Approach\n",
      "The approach to solve this problem involves using recursion, which is a method where a function calls itself to solve smaller instances of the same problem. Here's a step-by-step breakdown of the approach:\n",
      "\n",
      "1. **Base Cases**: \n",
      "   - If `n` is 0, return 0.\n",
      "   - If `n` is 1, return 1.\n",
      "   \n",
      "2. **Recursive Case**:\n",
      "   - For any `n` greater than 1, the nth Fibonacci number is the sum of the (n-1)th and (n-2)th Fibonacci numbers. This is achieved by recursively calling the function for these two smaller values and adding their results.\n",
      "\n",
      "This approach ensures that each Fibonacci number is computed by breaking down the problem into smaller subproblems, which are then solved recursively.\n",
      "\n",
      "### Solution Code\n",
      "\n",
      "```python\n",
      "def fibonacci(n):\n",
      "    if n == 0:\n",
      "        return 0\n",
      "    elif n == 1:\n",
      "        return 1\n",
      "    else:\n",
      "        return fibonacci(n-1) + fibonacci(n-2)\n",
      "```\n",
      "\n",
      "### Explanation\n",
      "- **Base Cases**: The function first checks if `n` is 0 or 1. If `n` is 0, it returns 0. If `n` is 1, it returns 1. These are the simplest cases of the Fibonacci sequence.\n",
      "- **Recursive Case**: For any `n` greater than 1, the function calls itself with `n-1` and `n-2` and returns the sum of these two recursive calls. This builds up the solution by solving smaller subproblems and combining their results.\n",
      "\n",
      "This approach is straightforward and leverages the divide-and-conquer strategy inherent in recursion, making it easy to understand and implement. However, it's important to note that this approach has a time complexity of O(2^n) due to the exponential number of function calls, which is not efficient for large values of `n`. For larger values, an iterative approach or memoization would be more efficient.\n",
      "-----END-----\n",
      "\n"
     ]
    }
   ],
   "source": [
    "runner.generate_response(example_prompts,\n",
    "                         [TriggerPhraseLogitsProcessor(\"\\nWait,\", \"</think>\", runner.tokenizer, \n",
    "                                                       trigger_count=2, trigger_after=False)],\n",
    "                        max_tokens=4096)"
   ]
  },
  {
   "cell_type": "markdown",
   "id": "93f36a8e",
   "metadata": {},
   "source": [
    "## Make sure to generate python code at the end"
   ]
  },
  {
   "cell_type": "code",
   "execution_count": 5,
   "id": "d967f318",
   "metadata": {
    "scrolled": false
   },
   "outputs": [
    {
     "name": "stdout",
     "output_type": "stream",
     "text": [
      "Prompt: \n",
      "Generate a python function to calculate nth fibonacci number. Make it recursive. Keep thinking short.\n",
      "\n",
      "Okay, I need to write a Python function to calculate the nth Fibonacci number using recursion. Hmm, let's think about how the Fibonacci sequence works. The Fibonacci sequence starts with 0 and 1, and each subsequent number is the sum of the two preceding ones. So, the sequence goes 0, 1, 1, 2, 3, 5, 8, and so on.\n",
      "\n",
      "Wait, but sometimes people define it starting with 1 and 1. I should clarify that. Oh right, the standard definition starts with F(0) = 0, F(1) = 1, F(2) = 1, F(3) = 2, etc. So, for example, F(5) would be 5.\n",
      "\n",
      "Now, the problem says to make it recursive. Recursion means the function will call itself with a smaller problem each time. So, the base cases are when n is 0 or 1, and then for other values, it adds the two previous numbers.\n",
      "\n",
      "Wait, but in the standard definition, F(0) is 0, F(1) is 1, F(2) is 1, F(3) is 2, etc. So, for n=0, return 0; for n=1, return 1. For n >=2, return F(n-1) + F(n-2).\n",
      "\n",
      "So, the recursive function can be written as:\n",
      "\n",
      "def fibonacci(n):\n",
      "    if n == 0:\n",
      "        return 0\n",
      "    elif n == 1:\n",
      "        return 1\n",
      "    else:\n",
      "        return fibonacci(n-1) + fibonacci(n-2)\n",
      "\n",
      "But wait, recursion can be inefficient for large n because it recalculates the same values many times. However, the problem says to keep thinking short, so maybe it's acceptable for now.\n",
      "\n",
      "Alternatively, I can optimize it using memoization or dynamic programming to store previously computed values, but that's more advanced. Since the problem doesn't specify, I'll stick with the basic recursive approach.\n",
      "\n",
      "Let me test this function with some examples. For n=0, it returns 0. For n=1, returns 1. For n=2, it's F(1)+F(0) = 1+0=1. For n=3, F(2)+F(1)=1+1=2. That looks correct.\n",
      "\n",
      "Wait, but sometimes people define the Fibonacci sequence starting with F(1)=1, F(2)=1, F(3)=2, etc. So, if the function is called with n=5, it should return 5. Let me see: F(5) is 5, which matches the standard definition. So, the function should work regardless of the starting point as long as the base cases are correct.\n",
      "\n",
      "Another thing to consider is the base cases. If the function is called with n=0, it returns 0, which is correct. For n=1, returns 1. For n=2, returns 1, which is correct. So, the function should handle all non-negative integers correctly.\n",
      "\n",
      "I think this should work. So, the function is straightforward. It's a simple recursive implementation, but it's not the most efficient for large n. However, for the purpose of this problem, it's acceptable.\n",
      "</think>\n",
      "```python\n",
      "def fibonacci(n):\n",
      "    if n == 0:\n",
      "        return 0\n",
      "    elif n == 1:\n",
      "        return 1\n",
      "    else:\n",
      "        return fibonacci(n-1) + fibonacci(n-2)\n",
      "```\n",
      "\n",
      "This function calculates the nth Fibonacci number using a recursive approach. It handles the base cases where n is 0 or 1 and for other values, it recursively calculates the sum of the two preceding Fibonacci numbers. While this implementation is straightforward, it's not the most efficient for large values of n due to repeated calculations.\n",
      "-----END-----\n",
      "\n"
     ]
    }
   ],
   "source": [
    "trigger_python = TriggerPhraseLogitsProcessor(\"\\n```python\", \"</think>\", runner.tokenizer, \n",
    "                                              trigger_count=1, trigger_after=True)\n",
    "\n",
    "runner.generate_response(example_prompts,\n",
    "                         [trigger_python],\n",
    "                        max_tokens=4096)"
   ]
  },
  {
   "cell_type": "markdown",
   "id": "68deebf3",
   "metadata": {},
   "source": [
    "## Do not overthink, give me the code"
   ]
  },
  {
   "cell_type": "code",
   "execution_count": 6,
   "id": "5eb52c6f",
   "metadata": {},
   "outputs": [
    {
     "name": "stdout",
     "output_type": "stream",
     "text": [
      "Prompt: \n",
      "Generate a python function to calculate nth fibonacci number. Make it recursive. Keep thinking short.\n",
      "\n",
      "Okay, I need to write a Python function to calculate the nth Fibonacci number using recursion. Hmm, let's think about how the Fibonacci sequence works. The Fibonacci sequence starts with 0 and 1, and each subsequent number is the sum of the two preceding ones. So, the sequence goes 0, 1, 1, 2, 3, 5, 8, and so on.\n",
      "\n",
      "Wait, but sometimes people define it starting with 1 and 1. I should clarify that. Oh right, the standard definition starts with F(0) = 0, F(1) = 1, F(2) = 1, F(3) = 2, etc. So, for example, F(5) would be 5.\n",
      "\n",
      "Now, the problem says to make it recursive.</think>\n",
      "```python\n",
      "def fibonacci(n):\n",
      "    if n == 0:\n",
      "        return 0\n",
      "    elif n == 1:\n",
      "        return 1\n",
      "    else:\n",
      "        return fibonacci(n-1) + fibonacci(n-2)\n",
      "```\n",
      "\n",
      "This function uses recursion to calculate the nth Fibonacci number. It checks if n is 0 or 1 and returns the corresponding value. For other values, it recursively calculates the (n-1)th and (n-2)th Fibonacci numbers and adds them together. This approach works for small values of n but may be inefficient for large n due to repeated calculations.\n",
      "-----END-----\n",
      "\n"
     ]
    }
   ],
   "source": [
    "keep_thinking_short = GenLengthLogitsProcessor(runner.tokenizer, boost_factor=0.1, complete_sentences=True,\n",
    "                                               boost_token_str=\"</think>\")\n",
    "\n",
    "runner.generate_response(example_prompts,\n",
    "                         [\n",
    "                             keep_thinking_short,\n",
    "                             trigger_python\n",
    "                         ],\n",
    "                        max_tokens=4096)"
   ]
  },
  {
   "cell_type": "code",
   "execution_count": null,
   "id": "bf7a7a91",
   "metadata": {},
   "outputs": [],
   "source": []
  }
 ],
 "metadata": {
  "kernelspec": {
   "display_name": "Python 3 (ipykernel)",
   "language": "python",
   "name": "python3"
  },
  "language_info": {
   "codemirror_mode": {
    "name": "ipython",
    "version": 3
   },
   "file_extension": ".py",
   "mimetype": "text/x-python",
   "name": "python",
   "nbconvert_exporter": "python",
   "pygments_lexer": "ipython3",
   "version": "3.10.17"
  }
 },
 "nbformat": 4,
 "nbformat_minor": 5
}
