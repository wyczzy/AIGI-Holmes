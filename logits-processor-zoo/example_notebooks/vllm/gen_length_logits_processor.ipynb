{
 "cells": [
  {
   "cell_type": "code",
   "execution_count": 1,
   "id": "28ed6952",
   "metadata": {},
   "outputs": [
    {
     "name": "stdout",
     "output_type": "stream",
     "text": [
      "/home/aerdem/projects/nvidia/logits-processor-zoo\n"
     ]
    }
   ],
   "source": [
    "%cd ../.."
   ]
  },
  {
   "cell_type": "code",
   "execution_count": 2,
   "id": "0ea01217",
   "metadata": {},
   "outputs": [
    {
     "name": "stdout",
     "output_type": "stream",
     "text": [
      "WARNING 04-29 15:35:03 cuda.py:22] You are using a deprecated `pynvml` package. Please install `nvidia-ml-py` instead. See https://pypi.org/project/pynvml for more information.\n"
     ]
    },
    {
     "name": "stderr",
     "output_type": "stream",
     "text": [
      "/home/aerdem/projects/LLM/llmenv/lib/python3.10/site-packages/huggingface_hub/file_download.py:1132: FutureWarning: `resume_download` is deprecated and will be removed in version 1.0.0. Downloads always resume when possible. If you want to force a new download, use `force_download=True`.\n",
      "  warnings.warn(\n"
     ]
    },
    {
     "name": "stdout",
     "output_type": "stream",
     "text": [
      "WARNING 04-29 15:35:06 config.py:1563] Casting torch.bfloat16 to torch.float16.\n",
      "INFO 04-29 15:35:06 llm_engine.py:184] Initializing an LLM engine (v0.5.5) with config: model='Qwen/Qwen2.5-1.5B-Instruct', speculative_config=None, tokenizer='Qwen/Qwen2.5-1.5B-Instruct', skip_tokenizer_init=False, tokenizer_mode=auto, revision=None, rope_scaling=None, rope_theta=None, tokenizer_revision=None, trust_remote_code=True, dtype=torch.float16, max_seq_len=32768, download_dir=None, load_format=LoadFormat.AUTO, tensor_parallel_size=1, pipeline_parallel_size=1, disable_custom_all_reduce=False, quantization=None, enforce_eager=True, kv_cache_dtype=auto, quantization_param_path=None, device_config=cuda, decoding_config=DecodingConfig(guided_decoding_backend='outlines'), observability_config=ObservabilityConfig(otlp_traces_endpoint=None, collect_model_forward_time=False, collect_model_execute_time=False), seed=0, served_model_name=Qwen/Qwen2.5-1.5B-Instruct, use_v2_block_manager=False, enable_prefix_caching=False)\n"
     ]
    },
    {
     "name": "stderr",
     "output_type": "stream",
     "text": [
      "Special tokens have been added in the vocabulary, make sure the associated word embeddings are fine-tuned or trained.\n"
     ]
    },
    {
     "name": "stdout",
     "output_type": "stream",
     "text": [
      "INFO 04-29 15:35:07 model_runner.py:879] Starting to load model Qwen/Qwen2.5-1.5B-Instruct...\n",
      "INFO 04-29 15:35:07 weight_utils.py:236] Using model weights format ['*.safetensors']\n",
      "INFO 04-29 15:35:08 weight_utils.py:280] No model.safetensors.index.json found in remote.\n"
     ]
    },
    {
     "data": {
      "application/vnd.jupyter.widget-view+json": {
       "model_id": "",
       "version_major": 2,
       "version_minor": 0
      },
      "text/plain": [
       "Loading safetensors checkpoint shards:   0% Completed | 0/1 [00:00<?, ?it/s]\n"
      ]
     },
     "metadata": {},
     "output_type": "display_data"
    },
    {
     "name": "stdout",
     "output_type": "stream",
     "text": [
      "INFO 04-29 15:35:08 model_runner.py:890] Loading model weights took 2.8875 GB\n",
      "INFO 04-29 15:35:10 gpu_executor.py:121] # GPU blocks: 37580, # CPU blocks: 9362\n"
     ]
    }
   ],
   "source": [
    "from example_notebooks.vllm.utils import vLLMRunner\n",
    "from logits_processor_zoo.vllm import GenLengthLogitsProcessor\n",
    "\n",
    "example_prompts =[\n",
    "    \"Please describe what macaques are.\",\n",
    "    \"Tell me a story about a kid lost in forest.\"\n",
    "]\n",
    "\n",
    "runner = vLLMRunner()"
   ]
  },
  {
   "cell_type": "markdown",
   "id": "859aef8d",
   "metadata": {},
   "source": [
    "## Default Response"
   ]
  },
  {
   "cell_type": "code",
   "execution_count": 3,
   "id": "cbf4c2d5",
   "metadata": {},
   "outputs": [
    {
     "name": "stdout",
     "output_type": "stream",
     "text": [
      "Prompt: Please describe what macaques are.\n",
      "Macaques are a genus of Old World monkeys, belonging to the family Cercopithecidae. They are native to Asia and are known for their intelligence, social behavior, and ability to adapt to various environments. Here are some key points about macaques:\n",
      "\n",
      "1. Species: There are several species of macaques, including the rhesus macaque, the Japanese macaque, and the stump-tailed macaque.\n",
      "\n",
      "2. Appearance: Macaques have a distinctive appearance, with a long tail, large ears, and a distinctive facial structure. They are generally gray or brown in color.\n",
      "\n",
      "3. Diet: Macaques are omnivorous, eating a variety of plant materials, fruits, leaves, and insects.\n",
      "\n",
      "4. Social behavior: Macaques are highly social animals, living in groups called troops. They are known for their complex social structures and cooperative behaviors.\n",
      "\n",
      "5. Intelligence: Macaques are highly intelligent animals, capable of problem-solving and using tools. They have been observed using sticks to extract insects from tree bark and using rocks to crack open nuts.\n",
      "\n",
      "6. Conservation status: Some species of macaques are considered endangered due to habitat loss and hunting. Conservation efforts are underway to protect these animals and their habitats.\n",
      "\n",
      "7. Cultural significance: Macaques have been featured in various cultures throughout history, from ancient Chinese legends to modern cartoons and movies.\n",
      "\n",
      "8. Research: Macaques are commonly used in scientific research due to their intelligence and social behavior, which can help researchers understand human behavior and develop new treatments for various diseases.\n",
      "\n",
      "Overall, macaques are fascinating animals with a rich history and cultural significance, and their study continues to provide valuable insights into the workings of the human brain and behavior.\n",
      "-----END-----\n",
      "\n",
      "Prompt: Tell me a story about a kid lost in forest.\n",
      "Once upon a time, there was a young boy named Timmy who loved exploring the woods near his home. One day, Timmy decided to go on an adventure and explore the forest on his own. He packed a small backpack with some snacks and a water bottle, and set off into the woods.\n",
      "\n",
      "As Timmy walked deeper into the forest, he began to feel a bit lost. The trees seemed to tower over him, and the sounds of the forest were muffled by the thick underbrush. Timmy tried to stay on the path he had taken, but he couldn't remember which way he had come from.\n",
      "\n",
      "Suddenly, Timmy heard a rustling in the bushes. He froze, his heart racing with fear. He had heard stories of wild animals in the forest, and he didn't want to be alone in the woods. Timmy slowly turned around, his heart pounding in his chest.\n",
      "\n",
      "To his surprise, he saw a friendly squirrel. The squirrel was sitting on a branch, watching him with curious eyes. The squirrel seemed to understand that Timmy was lost, and it offered to help him find his way back to the path.\n",
      "\n",
      "Timmy was grateful for the squirrel's help, and he followed it through the forest. The squirrel led him to a clearing where he could see the path clearly. Timmy was relieved to be back on the path, and he thanked the squirrel for its help.\n",
      "\n",
      "From that day on, Timmy always carried a small backpack with him when he went exploring in the forest. He knew that the forest was full of surprises, but he also knew that he could always find his way back if he needed to.\n",
      "-----END-----\n",
      "\n"
     ]
    }
   ],
   "source": [
    "runner.generate_response(example_prompts)"
   ]
  },
  {
   "cell_type": "markdown",
   "id": "88bc2f8a",
   "metadata": {},
   "source": [
    "## Shorter Answers"
   ]
  },
  {
   "cell_type": "code",
   "execution_count": 4,
   "id": "7d74eb26",
   "metadata": {},
   "outputs": [
    {
     "name": "stdout",
     "output_type": "stream",
     "text": [
      "Prompt: Please describe what macaques are.\n",
      "Macaques are a genus of Old World monkeys, belonging to the family Cercopithecidae. They are native to Asia and are known for their intelligence, social behavior, and ability to adapt to various environments. Here are some key points about macaques:\n",
      "\n",
      "1. Species: There are several species of macaques, including the rhesus macaque, the Japanese macaque, and the stump-tailed macaque.\n",
      "\n",
      "2. Appearance: Macaques have a distinctive appearance, with a long tail, large ears, and a distinctive facial structure. They are generally gray or brown in color.\n",
      "\n",
      "3. Diet: Macaques are omnivorous, eating a variety of plant materials, fruits, leaves, and insects.\n",
      "\n",
      "4. Social behavior: Macaques are highly social animals, living in groups called troops. They are known for their complex social structures and cooperative behaviors.\n",
      "\n",
      "5.\n",
      "-----END-----\n",
      "\n",
      "Prompt: Tell me a story about a kid lost in forest.\n",
      "Once upon a time, there was a young boy named Timmy who loved exploring the woods near his home. One day, Timmy decided to go on an adventure and explore the forest on his own. He packed a small backpack with some snacks and a water bottle, and set off into the woods.\n",
      "\n",
      "As Timmy walked deeper into the forest, he began to feel a bit lost. The trees seemed to tower over him, and the sounds of the forest were muffled by the thick underbrush. Timmy tried to stay on the path he had taken, but he couldn't remember which way he had come from.\n",
      "\n",
      "Suddenly, Timmy heard a rustling in the bushes. He froze, his heart racing with fear. He had heard stories of wild animals in the forest, and he didn't want to be alone in the woods.\n",
      "-----END-----\n",
      "\n"
     ]
    }
   ],
   "source": [
    "runner.generate_response(example_prompts,\n",
    "                         [GenLengthLogitsProcessor(runner.tokenizer, boost_factor=0.1, p=2, \n",
    "                                                   complete_sentences=True)])"
   ]
  },
  {
   "cell_type": "markdown",
   "id": "15b5afa5",
   "metadata": {},
   "source": [
    "## Longer Answers"
   ]
  },
  {
   "cell_type": "code",
   "execution_count": 5,
   "id": "b2297aab",
   "metadata": {},
   "outputs": [
    {
     "name": "stdout",
     "output_type": "stream",
     "text": [
      "Prompt: Please describe what macaques are.\n",
      "Macaques are a genus of Old World monkeys, belonging to the family Cercopithecidae. They are native to Asia and are known for their intelligence, social behavior, and ability to adapt to various environments. Here are some key points about macaques:\n",
      "\n",
      "1. Species: There are several species of macaques, including the rhesus macaque, the Japanese macaque, and the stump-tailed macaque.\n",
      "\n",
      "2. Appearance: Macaques have a distinctive appearance, with a long tail, large ears, and a distinctive facial structure. They are generally gray or brown in color.\n",
      "\n",
      "3. Diet: Macaques are omnivorous, eating a variety of plant materials, fruits, leaves, and insects.\n",
      "\n",
      "4. Social behavior: Macaques are highly social animals, living in groups called troops. They are known for their complex social structures and cooperative behaviors.\n",
      "\n",
      "5. Intelligence: Macaques are highly intelligent animals, capable of problem-solving and using tools. They have been observed using sticks to extract insects from tree bark and using rocks to crack open nuts.\n",
      "\n",
      "6. Conservation status: Some species of macaques are considered endangered due to habitat loss and hunting. Conservation efforts are underway to protect these animals and their habitats.\n",
      "\n",
      "7. Cultural significance: Macaques have been featured in various cultures throughout history, from ancient Chinese legends to modern cartoons and movies.\n",
      "\n",
      "8. Research: Macaques are commonly used in scientific research due to their intelligence and social behavior, which can help researchers understand human behavior and develop new treatments for various diseases.\n",
      "\n",
      "Overall, macaques are fascinating animals with a rich history and cultural significance, and their study continues to provide valuable insights into the workings of the human brain and behavior.\n",
      "-----END-----\n",
      "\n",
      "Prompt: Tell me a story about a kid lost in forest.\n",
      "Once upon a time, there was a young boy named Timmy who loved exploring the woods near his home. One day, Timmy decided to go on an adventure and explore the forest on his own. He packed a small backpack with some snacks and a water bottle, and set off into the woods.\n",
      "\n",
      "As Timmy walked deeper into the forest, he began to feel a bit lost. The trees seemed to tower over him, and the sounds of the forest were muffled by the thick underbrush. Timmy tried to stay on the path he had taken, but he couldn't remember which way he had come from.\n",
      "\n",
      "Suddenly, Timmy heard a rustling in the bushes. He froze, his heart racing with fear. He had heard stories of wild animals in the forest, and he didn't want to be alone in the woods. Timmy slowly turned around, his heart pounding in his chest.\n",
      "\n",
      "To his surprise, he saw a friendly squirrel. The squirrel was sitting on a branch, watching him with curious eyes. The squirrel seemed to understand that Timmy was lost, and it offered to help him find his way back to the path.\n",
      "\n",
      "Timmy was grateful for the squirrel's help, and he followed it through the forest. The squirrel led him to a clearing where he could see the path clearly. Timmy was relieved to be back on the path, and he thanked the squirrel for its help.\n",
      "\n",
      "From that day on, Timmy always carried a small backpack with him when he went exploring in the forest. He knew that the forest was full of surprises, but he also knew that he could always find his way back if he needed to. And whenever he went on an adventure, he always remembered the lesson he learned from the friendly squirrel in the forest. \n",
      "\n",
      "The end. \n",
      "\n",
      "Note: This story is a fictional tale and not based on any real events. It is meant to be a creative and imaginative story for children to read and enjoy. It is not intended to be a true story or to teach any specific lesson. The story is designed to be a fun and engaging read for children, and it is not intended to be a serious or educational story. The story is meant to be a creative and imaginative tale that can be enjoyed by children of all ages. The story is not intended to be a true story or to teach any specific lesson. The story is designed to be a fun and engaging read for children, and it is not intended to be a serious or educational story. The story is meant to be a creative and imaginative tale that can be enjoyed by children of all ages. The story is not intended to be a true story or to teach any specific lesson. The story is designed to be a fun and engaging read for children, and it is not intended to be a serious or educational story. The story is meant to be a creative and imaginative tale that can be enjoyed by children of all ages. The story is not intended to be a true story or to teach any specific lesson. The story is designed to be a fun and engaging read for children, and it is not intended to be a serious or educational story. The story is meant to be a creative and imaginative tale that can be enjoyed by children of all ages. The story is not intended to be a true story or to teach any specific lesson. The story is designed to be a fun and engaging read for children, and it is not intended to be a serious or educational story. The story is meant to be a creative and imaginative tale that can be enjoyed by children of all ages. The story is not intended to be a true story or to teach any specific lesson. The story is designed to be a fun and engaging read for children, and it is not intended to be a serious or educational story. The story is meant to be a creative and imaginative tale that can be enjoyed by children of all ages. The story is not intended to be a true story or to teach any specific lesson. The story is designed to be a fun and engaging read for children, and it is not intended to be a serious or educational story. The story is meant to be a creative and imaginative tale that can be enjoyed by children of all ages. The story is not intended to be a true story or to teach any specific lesson. The story is designed to be a fun and engaging read for children, and it is not intended to be a serious or educational story. The story is meant to be a creative and imaginative tale that can be enjoyed by children of all ages. The story is not intended to be a true story or to teach any specific lesson. The story is designed to be a fun and engaging read for children, and it is not intended to be a serious or educational story. The story is meant to be a creative and imaginative tale that can be enjoyed by children of all ages. The story is not intended to be a true story or to teach any specific lesson. The story is designed to\n",
      "-----END-----\n",
      "\n"
     ]
    }
   ],
   "source": [
    "runner.generate_response(example_prompts,\n",
    "                         [GenLengthLogitsProcessor(runner.tokenizer, boost_factor=-10.0, p=0, \n",
    "                                                   complete_sentences=False)])"
   ]
  },
  {
   "cell_type": "code",
   "execution_count": null,
   "id": "aab7ed04",
   "metadata": {},
   "outputs": [],
   "source": []
  }
 ],
 "metadata": {
  "kernelspec": {
   "display_name": "Python 3 (ipykernel)",
   "language": "python",
   "name": "python3"
  },
  "language_info": {
   "codemirror_mode": {
    "name": "ipython",
    "version": 3
   },
   "file_extension": ".py",
   "mimetype": "text/x-python",
   "name": "python",
   "nbconvert_exporter": "python",
   "pygments_lexer": "ipython3",
   "version": "3.10.17"
  }
 },
 "nbformat": 4,
 "nbformat_minor": 5
}
