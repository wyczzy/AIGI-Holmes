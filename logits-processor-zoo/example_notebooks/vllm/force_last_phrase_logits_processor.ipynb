{
 "cells": [
  {
   "cell_type": "code",
   "execution_count": 1,
   "id": "28ed6952",
   "metadata": {},
   "outputs": [
    {
     "name": "stdout",
     "output_type": "stream",
     "text": [
      "/home/aerdem/projects/nvidia/logits-processor-zoo\n"
     ]
    }
   ],
   "source": [
    "%cd ../.."
   ]
  },
  {
   "cell_type": "code",
   "execution_count": 2,
   "id": "b89279fe",
   "metadata": {},
   "outputs": [
    {
     "name": "stdout",
     "output_type": "stream",
     "text": [
      "INFO 05-22 14:10:48 [__init__.py:239] Automatically detected platform cuda.\n",
      "WARNING 05-22 14:10:51 [config.py:2972] Casting torch.bfloat16 to torch.float16.\n",
      "INFO 05-22 14:10:56 [config.py:717] This model supports multiple tasks: {'classify', 'generate', 'score', 'reward', 'embed'}. Defaulting to 'generate'.\n",
      "WARNING 05-22 14:10:56 [cuda.py:93] To see benefits of async output processing, enable CUDA graph. Since, enforce-eager is enabled, async output processor cannot be used\n",
      "INFO 05-22 14:10:56 [llm_engine.py:240] Initializing a V0 LLM engine (v0.8.5.post1) with config: model='Qwen/Qwen2.5-1.5B-Instruct', speculative_config=None, tokenizer='Qwen/Qwen2.5-1.5B-Instruct', skip_tokenizer_init=False, tokenizer_mode=auto, revision=None, override_neuron_config=None, tokenizer_revision=None, trust_remote_code=True, dtype=torch.float16, max_seq_len=32768, download_dir=None, load_format=auto, tensor_parallel_size=1, pipeline_parallel_size=1, disable_custom_all_reduce=False, quantization=None, enforce_eager=True, kv_cache_dtype=auto,  device_config=cuda, decoding_config=DecodingConfig(guided_decoding_backend='auto', reasoning_backend=None), observability_config=ObservabilityConfig(show_hidden_metrics=False, otlp_traces_endpoint=None, collect_model_forward_time=False, collect_model_execute_time=False), seed=None, served_model_name=Qwen/Qwen2.5-1.5B-Instruct, num_scheduler_steps=1, multi_step_stream_outputs=True, enable_prefix_caching=None, chunked_prefill_enabled=False, use_async_output_proc=False, disable_mm_preprocessor_cache=False, mm_processor_kwargs=None, pooler_config=None, compilation_config={\"splitting_ops\":[],\"compile_sizes\":[],\"cudagraph_capture_sizes\":[],\"max_capture_size\":0}, use_cached_outputs=False, \n",
      "INFO 05-22 14:10:57 [cuda.py:292] Using Flash Attention backend.\n",
      "INFO 05-22 14:10:58 [parallel_state.py:1004] rank 0 in world size 1 is assigned as DP rank 0, PP rank 0, TP rank 0\n",
      "INFO 05-22 14:10:58 [model_runner.py:1108] Starting to load model Qwen/Qwen2.5-1.5B-Instruct...\n",
      "INFO 05-22 14:10:58 [weight_utils.py:265] Using model weights format ['*.safetensors']\n",
      "INFO 05-22 14:10:59 [weight_utils.py:315] No model.safetensors.index.json found in remote.\n"
     ]
    },
    {
     "data": {
      "application/vnd.jupyter.widget-view+json": {
       "model_id": "",
       "version_major": 2,
       "version_minor": 0
      },
      "text/plain": [
       "Loading safetensors checkpoint shards:   0% Completed | 0/1 [00:00<?, ?it/s]\n"
      ]
     },
     "metadata": {},
     "output_type": "display_data"
    },
    {
     "name": "stdout",
     "output_type": "stream",
     "text": [
      "INFO 05-22 14:10:59 [loader.py:458] Loading weights took 0.57 seconds\n",
      "INFO 05-22 14:11:00 [model_runner.py:1140] Model loading took 2.8876 GiB and 1.736228 seconds\n",
      "INFO 05-22 14:11:01 [worker.py:287] Memory profiling takes 1.78 seconds\n",
      "INFO 05-22 14:11:01 [worker.py:287] the current vLLM instance can use total_gpu_memory (23.66GiB) x gpu_memory_utilization (0.90) = 21.29GiB\n",
      "INFO 05-22 14:11:01 [worker.py:287] model weights take 2.89GiB; non_torch_memory takes 0.06GiB; PyTorch activation peak memory takes 2.02GiB; the rest of the memory reserved for KV Cache is 16.32GiB.\n",
      "INFO 05-22 14:11:02 [executor_base.py:112] # cuda blocks: 38208, # CPU blocks: 9362\n",
      "INFO 05-22 14:11:02 [executor_base.py:117] Maximum concurrency for 32768 tokens per request: 18.66x\n",
      "INFO 05-22 14:11:03 [llm_engine.py:437] init engine (profile, create kv cache, warmup model) took 3.29 seconds\n"
     ]
    }
   ],
   "source": [
    "from example_notebooks.vllm.utils import vLLMRunner\n",
    "from logits_processor_zoo.vllm import ForceLastPhraseLogitsProcessor\n",
    "\n",
    "\n",
    "example_prompts = [\n",
    "    \"\"\"\n",
    "    Retrieved information from: https://en.wikipedia.org/wiki/Bulbasaur\n",
    "    Bulbasaur is a fictional Pokémon species in Nintendo and Game Freak's Pokémon franchise. \n",
    "    Designed by Atsuko Nishida, Bulbasaur is a Grass and Poison-type, first appearing in Pocket Monsters: Red and Green (Pokémon Red and Blue outside Japan) as a starter Pokémon. \n",
    "    Since then, it has reappeared in sequels, spin-off games, related merchandise, and animated and printed adaptations of the franchise. \n",
    "    It is a central character in the Pokémon anime, being one of Ash Ketchum's main Pokémon for the first season, with a different one later being obtained by supporting character May. \n",
    "    It is featured in various manga and is owned by protagonist Red in Pokémon Adventures.\n",
    "    \n",
    "    What is Bulbasaur?\n",
    "    \"\"\",\n",
    "]\n",
    "\n",
    "runner = vLLMRunner()"
   ]
  },
  {
   "cell_type": "markdown",
   "id": "859aef8d",
   "metadata": {},
   "source": [
    "## Default Response"
   ]
  },
  {
   "cell_type": "code",
   "execution_count": 3,
   "id": "cbf4c2d5",
   "metadata": {},
   "outputs": [
    {
     "name": "stdout",
     "output_type": "stream",
     "text": [
      "Prompt: \n",
      "    Retrieved information from: https://en.wikipedia.org/wiki/Bulbasaur\n",
      "    Bulbasaur is a fictional Pokémon species in Nintendo and Game Freak's Pokémon franchise. \n",
      "    Designed by Atsuko Nishida, Bulbasaur is a Grass and Poison-type, first appearing in Pocket Monsters: Red and Green (Pokémon Red and Blue outside Japan) as a starter Pokémon. \n",
      "    Since then, it has reappeared in sequels, spin-off games, related merchandise, and animated and printed adaptations of the franchise. \n",
      "    It is a central character in the Pokémon anime, being one of Ash Ketchum's main Pokémon for the first season, with a different one later being obtained by supporting character May. \n",
      "    It is featured in various manga and is owned by protagonist Red in Pokémon Adventures.\n",
      "    \n",
      "    What is Bulbasaur?\n",
      "    \n",
      "Bulbasaur is a fictional Pokémon species in the Pokémon franchise. It is a Grass and Poison-type Pokémon, designed by Atsuko Nishida. Bulbasaur first appeared in Pocket Monsters: Red and Green (Pokémon Red and Blue outside Japan) as a starter Pokémon. It has since reappeared in sequels, spin-off games, related merchandise, and animated and printed adaptations of the franchise. It is a central character in the Pokémon anime, being one of Ash Ketchum's main Pokémon for the first season, with a different one later being obtained by supporting character May. It is featured in various manga and is owned by protagonist Red in Pokémon Adventures.\n",
      "-----END-----\n",
      "\n"
     ]
    }
   ],
   "source": [
    "runner.generate_response(example_prompts)"
   ]
  },
  {
   "cell_type": "markdown",
   "id": "88bc2f8a",
   "metadata": {},
   "source": [
    "## Provide references"
   ]
  },
  {
   "cell_type": "code",
   "execution_count": 4,
   "id": "7d74eb26",
   "metadata": {},
   "outputs": [
    {
     "name": "stdout",
     "output_type": "stream",
     "text": [
      "Prompt: \n",
      "    Retrieved information from: https://en.wikipedia.org/wiki/Bulbasaur\n",
      "    Bulbasaur is a fictional Pokémon species in Nintendo and Game Freak's Pokémon franchise. \n",
      "    Designed by Atsuko Nishida, Bulbasaur is a Grass and Poison-type, first appearing in Pocket Monsters: Red and Green (Pokémon Red and Blue outside Japan) as a starter Pokémon. \n",
      "    Since then, it has reappeared in sequels, spin-off games, related merchandise, and animated and printed adaptations of the franchise. \n",
      "    It is a central character in the Pokémon anime, being one of Ash Ketchum's main Pokémon for the first season, with a different one later being obtained by supporting character May. \n",
      "    It is featured in various manga and is owned by protagonist Red in Pokémon Adventures.\n",
      "    \n",
      "    What is Bulbasaur?\n",
      "    \n",
      "Bulbasaur is a fictional Pokémon species in the Pokémon franchise. It is a Grass and Poison-type Pokémon, designed by Atsuko Nishida. Bulbasaur first appeared in Pocket Monsters: Red and Green (Pokémon Red and Blue outside Japan) as a starter Pokémon. It has since reappeared in sequels, spin-off games, related merchandise, and animated and printed adaptations of the franchise. It is a central character in the Pokémon anime, being one of Ash Ketchum's main Pokémon for the first season, with a different one later being obtained by supporting character May. It is featured in various manga and is owned by protagonist Red in Pokémon Adventures.\n",
      "\n",
      "References: Wikipedia article on Bulbasaur.\n",
      "-----END-----\n",
      "\n"
     ]
    }
   ],
   "source": [
    "reference = ForceLastPhraseLogitsProcessor(\"\\n\\nReferences:\", runner.tokenizer)\n",
    "\n",
    "runner.generate_response(example_prompts,\n",
    "                         [reference])"
   ]
  },
  {
   "cell_type": "markdown",
   "id": "b69f3b52",
   "metadata": {},
   "source": [
    "## Thank you message"
   ]
  },
  {
   "cell_type": "code",
   "execution_count": 5,
   "id": "40bfa98f",
   "metadata": {},
   "outputs": [
    {
     "name": "stdout",
     "output_type": "stream",
     "text": [
      "Prompt: \n",
      "    Retrieved information from: https://en.wikipedia.org/wiki/Bulbasaur\n",
      "    Bulbasaur is a fictional Pokémon species in Nintendo and Game Freak's Pokémon franchise. \n",
      "    Designed by Atsuko Nishida, Bulbasaur is a Grass and Poison-type, first appearing in Pocket Monsters: Red and Green (Pokémon Red and Blue outside Japan) as a starter Pokémon. \n",
      "    Since then, it has reappeared in sequels, spin-off games, related merchandise, and animated and printed adaptations of the franchise. \n",
      "    It is a central character in the Pokémon anime, being one of Ash Ketchum's main Pokémon for the first season, with a different one later being obtained by supporting character May. \n",
      "    It is featured in various manga and is owned by protagonist Red in Pokémon Adventures.\n",
      "    \n",
      "    What is Bulbasaur?\n",
      "    \n",
      "Bulbasaur is a fictional Pokémon species in the Pokémon franchise. It is a Grass and Poison-type Pokémon, designed by Atsuko Nishida. Bulbasaur first appeared in Pocket Monsters: Red and Green (Pokémon Red and Blue outside Japan) as a starter Pokémon. It has since reappeared in sequels, spin-off games, related merchandise, and animated and printed adaptations of the franchise. It is a central character in the Pokémon anime, being one of Ash Ketchum's main Pokémon for the first season, with a different one later being obtained by supporting character May. It is featured in various manga and is owned by protagonist Red in Pokémon Adventures.\n",
      "\n",
      "Thanks for trying our RAG application! If you have more questions about Bulbasaur or any other topic, feel free to ask!\n",
      "-----END-----\n",
      "\n"
     ]
    }
   ],
   "source": [
    "thank = ForceLastPhraseLogitsProcessor(\"\\n\\nThanks for trying our RAG application! If you have more questions about\",\n",
    "                                       runner.tokenizer)\n",
    "\n",
    "runner.generate_response(example_prompts,\n",
    "                         [thank])"
   ]
  },
  {
   "cell_type": "markdown",
   "id": "34735f41",
   "metadata": {},
   "source": [
    "## Both"
   ]
  },
  {
   "cell_type": "code",
   "execution_count": 6,
   "id": "88032bf3",
   "metadata": {},
   "outputs": [
    {
     "name": "stdout",
     "output_type": "stream",
     "text": [
      "Prompt: \n",
      "    Retrieved information from: https://en.wikipedia.org/wiki/Bulbasaur\n",
      "    Bulbasaur is a fictional Pokémon species in Nintendo and Game Freak's Pokémon franchise. \n",
      "    Designed by Atsuko Nishida, Bulbasaur is a Grass and Poison-type, first appearing in Pocket Monsters: Red and Green (Pokémon Red and Blue outside Japan) as a starter Pokémon. \n",
      "    Since then, it has reappeared in sequels, spin-off games, related merchandise, and animated and printed adaptations of the franchise. \n",
      "    It is a central character in the Pokémon anime, being one of Ash Ketchum's main Pokémon for the first season, with a different one later being obtained by supporting character May. \n",
      "    It is featured in various manga and is owned by protagonist Red in Pokémon Adventures.\n",
      "    \n",
      "    What is Bulbasaur?\n",
      "    \n",
      "Bulbasaur is a fictional Pokémon species in the Pokémon franchise. It is a Grass and Poison-type Pokémon, designed by Atsuko Nishida. Bulbasaur first appeared in Pocket Monsters: Red and Green (Pokémon Red and Blue outside Japan) as a starter Pokémon. It has since reappeared in sequels, spin-off games, related merchandise, and animated and printed adaptations of the franchise. It is a central character in the Pokémon anime, being one of Ash Ketchum's main Pokémon for the first season, with a different one later being obtained by supporting character May. It is featured in various manga and is owned by protagonist Red in Pokémon Adventures.\n",
      "\n",
      "Thanks for trying our RAG application! If you have more questions about Bulbasaur or any other topic, feel free to ask!\n",
      "\n",
      "References: Wikipedia entry on Bulbasaur.\n",
      "-----END-----\n",
      "\n"
     ]
    }
   ],
   "source": [
    "runner.generate_response(example_prompts,\n",
    "                         [thank, reference])"
   ]
  }
 ],
 "metadata": {
  "kernelspec": {
   "display_name": "Python 3 (ipykernel)",
   "language": "python",
   "name": "python3"
  },
  "language_info": {
   "codemirror_mode": {
    "name": "ipython",
    "version": 3
   },
   "file_extension": ".py",
   "mimetype": "text/x-python",
   "name": "python",
   "nbconvert_exporter": "python",
   "pygments_lexer": "ipython3",
   "version": "3.10.17"
  }
 },
 "nbformat": 4,
 "nbformat_minor": 5
}
