{
 "cells": [
  {
   "cell_type": "code",
   "execution_count": 1,
   "id": "28ed6952",
   "metadata": {},
   "outputs": [
    {
     "name": "stdout",
     "output_type": "stream",
     "text": [
      "/home/aerdem/projects/nvidia/logits-processor-zoo\n"
     ]
    }
   ],
   "source": [
    "%cd ../.."
   ]
  },
  {
   "cell_type": "code",
   "execution_count": 2,
   "id": "b89279fe",
   "metadata": {},
   "outputs": [
    {
     "name": "stdout",
     "output_type": "stream",
     "text": [
      "INFO 05-22 14:12:47 [__init__.py:239] Automatically detected platform cuda.\n",
      "WARNING 05-22 14:12:50 [config.py:2972] Casting torch.bfloat16 to torch.float16.\n",
      "INFO 05-22 14:12:55 [config.py:717] This model supports multiple tasks: {'reward', 'generate', 'classify', 'score', 'embed'}. Defaulting to 'generate'.\n",
      "WARNING 05-22 14:12:55 [cuda.py:93] To see benefits of async output processing, enable CUDA graph. Since, enforce-eager is enabled, async output processor cannot be used\n",
      "INFO 05-22 14:12:55 [llm_engine.py:240] Initializing a V0 LLM engine (v0.8.5.post1) with config: model='Qwen/Qwen2.5-1.5B-Instruct', speculative_config=None, tokenizer='Qwen/Qwen2.5-1.5B-Instruct', skip_tokenizer_init=False, tokenizer_mode=auto, revision=None, override_neuron_config=None, tokenizer_revision=None, trust_remote_code=True, dtype=torch.float16, max_seq_len=32768, download_dir=None, load_format=auto, tensor_parallel_size=1, pipeline_parallel_size=1, disable_custom_all_reduce=False, quantization=None, enforce_eager=True, kv_cache_dtype=auto,  device_config=cuda, decoding_config=DecodingConfig(guided_decoding_backend='auto', reasoning_backend=None), observability_config=ObservabilityConfig(show_hidden_metrics=False, otlp_traces_endpoint=None, collect_model_forward_time=False, collect_model_execute_time=False), seed=None, served_model_name=Qwen/Qwen2.5-1.5B-Instruct, num_scheduler_steps=1, multi_step_stream_outputs=True, enable_prefix_caching=None, chunked_prefill_enabled=False, use_async_output_proc=False, disable_mm_preprocessor_cache=False, mm_processor_kwargs=None, pooler_config=None, compilation_config={\"splitting_ops\":[],\"compile_sizes\":[],\"cudagraph_capture_sizes\":[],\"max_capture_size\":0}, use_cached_outputs=False, \n",
      "INFO 05-22 14:12:56 [cuda.py:292] Using Flash Attention backend.\n",
      "INFO 05-22 14:12:57 [parallel_state.py:1004] rank 0 in world size 1 is assigned as DP rank 0, PP rank 0, TP rank 0\n",
      "INFO 05-22 14:12:57 [model_runner.py:1108] Starting to load model Qwen/Qwen2.5-1.5B-Instruct...\n",
      "INFO 05-22 14:12:57 [weight_utils.py:265] Using model weights format ['*.safetensors']\n",
      "INFO 05-22 14:12:58 [weight_utils.py:315] No model.safetensors.index.json found in remote.\n"
     ]
    },
    {
     "data": {
      "application/vnd.jupyter.widget-view+json": {
       "model_id": "d29121d7259a47f5923ef4d1b3fa3138",
       "version_major": 2,
       "version_minor": 0
      },
      "text/plain": [
       "Loading safetensors checkpoint shards:   0% Completed | 0/1 [00:00<?, ?it/s]\n"
      ]
     },
     "metadata": {},
     "output_type": "display_data"
    },
    {
     "name": "stdout",
     "output_type": "stream",
     "text": [
      "INFO 05-22 14:12:58 [loader.py:458] Loading weights took 0.57 seconds\n",
      "INFO 05-22 14:12:58 [model_runner.py:1140] Model loading took 2.8876 GiB and 1.613375 seconds\n",
      "INFO 05-22 14:13:00 [worker.py:287] Memory profiling takes 1.73 seconds\n",
      "INFO 05-22 14:13:00 [worker.py:287] the current vLLM instance can use total_gpu_memory (23.66GiB) x gpu_memory_utilization (0.90) = 21.29GiB\n",
      "INFO 05-22 14:13:00 [worker.py:287] model weights take 2.89GiB; non_torch_memory takes 0.06GiB; PyTorch activation peak memory takes 2.02GiB; the rest of the memory reserved for KV Cache is 16.32GiB.\n",
      "INFO 05-22 14:13:00 [executor_base.py:112] # cuda blocks: 38207, # CPU blocks: 9362\n",
      "INFO 05-22 14:13:00 [executor_base.py:117] Maximum concurrency for 32768 tokens per request: 18.66x\n",
      "INFO 05-22 14:13:02 [llm_engine.py:437] init engine (profile, create kv cache, warmup model) took 3.24 seconds\n"
     ]
    }
   ],
   "source": [
    "from example_notebooks.vllm.utils import vLLMRunner\n",
    "from logits_processor_zoo.vllm import CiteFromPromptLogitsProcessor\n",
    "\n",
    "\n",
    "example_prompts =[\n",
    "    \"\"\"\n",
    "    A user review: very soft, colorful, expensive but deserves its price, stylish.\n",
    "    \n",
    "    What is the user's opinion about the product's price?\n",
    "    \"\"\",\n",
    "    \"\"\"\n",
    "    Retrieved information:\n",
    "    Pokémon is a Japanese media franchise consisting of video games, animated series and films, a trading card game, and other related media. \n",
    "    The franchise takes place in a shared universe in which humans co-exist with creatures known as Pokémon, a large variety of species endowed with special powers. \n",
    "    The franchise's target audience is children aged 5 to 12, but it is known to attract people of all ages.\n",
    "    \n",
    "    Can you shortly describe what Pokémon is?\n",
    "    \"\"\"\n",
    "]\n",
    "\n",
    "runner = vLLMRunner()"
   ]
  },
  {
   "cell_type": "markdown",
   "id": "859aef8d",
   "metadata": {},
   "source": [
    "## Default Response"
   ]
  },
  {
   "cell_type": "code",
   "execution_count": 3,
   "id": "cbf4c2d5",
   "metadata": {},
   "outputs": [
    {
     "name": "stdout",
     "output_type": "stream",
     "text": [
      "Prompt: \n",
      "    A user review: very soft, colorful, expensive but deserves its price, stylish.\n",
      "    \n",
      "    What is the user's opinion about the product's price?\n",
      "    \n",
      "The user's opinion about the product's price is that it is expensive, but they believe it is worth the price due to its softness, colorfulness, and stylish design.\n",
      "-----END-----\n",
      "\n",
      "Prompt: \n",
      "    Retrieved information:\n",
      "    Pokémon is a Japanese media franchise consisting of video games, animated series and films, a trading card game, and other related media. \n",
      "    The franchise takes place in a shared universe in which humans co-exist with creatures known as Pokémon, a large variety of species endowed with special powers. \n",
      "    The franchise's target audience is children aged 5 to 12, but it is known to attract people of all ages.\n",
      "    \n",
      "    Can you shortly describe what Pokémon is?\n",
      "    \n",
      "Pokémon is a Japanese media franchise that includes video games, animated series, films, trading card games, and other related media. It features a shared universe where humans coexist with Pokémon, a diverse group of creatures with special powers. The franchise is aimed at children aged 5 to 12, but it has a broad appeal across all ages.\n",
      "-----END-----\n",
      "\n"
     ]
    }
   ],
   "source": [
    "runner.generate_response(example_prompts)"
   ]
  },
  {
   "cell_type": "markdown",
   "id": "88bc2f8a",
   "metadata": {},
   "source": [
    "## Cite from Prompt"
   ]
  },
  {
   "cell_type": "code",
   "execution_count": 4,
   "id": "7d74eb26",
   "metadata": {},
   "outputs": [
    {
     "name": "stdout",
     "output_type": "stream",
     "text": [
      "Prompt: \n",
      "    A user review: very soft, colorful, expensive but deserves its price, stylish.\n",
      "    \n",
      "    What is the user's opinion about the product's price?\n",
      "    \n",
      "The user's opinion about the product's price is that it is expensive but deserves its price, stylish.\n",
      "-----END-----\n",
      "\n",
      "Prompt: \n",
      "    Retrieved information:\n",
      "    Pokémon is a Japanese media franchise consisting of video games, animated series and films, a trading card game, and other related media. \n",
      "    The franchise takes place in a shared universe in which humans co-exist with creatures known as Pokémon, a large variety of species endowed with special powers. \n",
      "    The franchise's target audience is children aged 5 to 12, but it is known to attract people of all ages.\n",
      "    \n",
      "    Can you shortly describe what Pokémon is?\n",
      "    \n",
      "Pokémon is a Japanese media franchise consisting of video games, animated series and films, a trading card game, and other related media. The franchise takes place in a shared universe in which humans co-exist with creatures known as Pokémon, a large variety of species endowed with special powers. The franchise's target audience is children aged 5 to 12, but it is known to attract people of all ages.\n",
      "-----END-----\n",
      "\n"
     ]
    }
   ],
   "source": [
    "runner.generate_response(example_prompts,\n",
    "                         [CiteFromPromptLogitsProcessor(runner.tokenizer, boost_factor=1.0, boost_eos=False,\n",
    "                                                        conditional_boost_factor=3.0)])"
   ]
  },
  {
   "cell_type": "markdown",
   "id": "b69f3b52",
   "metadata": {},
   "source": [
    "## DON'T Cite from Prompt"
   ]
  },
  {
   "cell_type": "code",
   "execution_count": 5,
   "id": "40bfa98f",
   "metadata": {},
   "outputs": [
    {
     "name": "stdout",
     "output_type": "stream",
     "text": [
      "Prompt: \n",
      "    A user review: very soft, colorful, expensive but deserves its price, stylish.\n",
      "    \n",
      "    What is the user's opinion about the product's price?\n",
      "    \n",
      "The user's opinion about the product's price is that it is expensive, but they believe it is worth the cost due to its softness, colorfulness, and style.\n",
      "-----END-----\n",
      "\n",
      "Prompt: \n",
      "    Retrieved information:\n",
      "    Pokémon is a Japanese media franchise consisting of video games, animated series and films, a trading card game, and other related media. \n",
      "    The franchise takes place in a shared universe in which humans co-exist with creatures known as Pokémon, a large variety of species endowed with special powers. \n",
      "    The franchise's target audience is children aged 5 to 12, but it is known to attract people of all ages.\n",
      "    \n",
      "    Can you shortly describe what Pokémon is?\n",
      "    \n",
      "Pokémon is a popular Japanese media franchise that features a world where humans live alongside Pokémon, mythical creatures with unique abilities. It targets children aged 5 to 12 but has broad appeal across all age groups.\n",
      "-----END-----\n",
      "\n"
     ]
    }
   ],
   "source": [
    "runner.generate_response(example_prompts,\n",
    "                         [CiteFromPromptLogitsProcessor(runner.tokenizer, boost_factor=-1.0, boost_eos=False,\n",
    "                                                        conditional_boost_factor=-1.0)])"
   ]
  },
  {
   "cell_type": "code",
   "execution_count": null,
   "id": "88032bf3",
   "metadata": {},
   "outputs": [],
   "source": []
  }
 ],
 "metadata": {
  "kernelspec": {
   "display_name": "Python 3 (ipykernel)",
   "language": "python",
   "name": "python3"
  },
  "language_info": {
   "codemirror_mode": {
    "name": "ipython",
    "version": 3
   },
   "file_extension": ".py",
   "mimetype": "text/x-python",
   "name": "python",
   "nbconvert_exporter": "python",
   "pygments_lexer": "ipython3",
   "version": "3.10.17"
  }
 },
 "nbformat": 4,
 "nbformat_minor": 5
}
